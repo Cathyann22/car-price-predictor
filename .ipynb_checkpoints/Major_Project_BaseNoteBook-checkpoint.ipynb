{
 "cells": [
  {
   "cell_type": "markdown",
   "id": "bbc8c5e7",
   "metadata": {
    "deletable": false,
    "editable": false
   },
   "source": [
    "# Major Project Exam: Exploratory Data Analysis (EDA) and Machine Learning Integration"
   ]
  },
  {
   "cell_type": "markdown",
   "id": "db7a8183",
   "metadata": {
    "deletable": false,
    "editable": false
   },
   "source": [
    "### Problem statement:\n",
    "Perform a comprehensive analysis on the given dataset using Python, incorporating exploratory data analysis (EDA) and machine learning techniques. Your task is to preprocess the data, engineer features, select and train models, and evaluate their performance. \n",
    "\n",
    "##### Additionally, document your process with Python comments explaining your code, and for each section, provide detailed conclusions and observations. \n"
   ]
  },
  {
   "cell_type": "code",
   "execution_count": null,
   "id": "bac9259e",
   "metadata": {},
   "outputs": [],
   "source": []
  },
  {
   "cell_type": "markdown",
   "id": "dce68822",
   "metadata": {
    "deletable": false,
    "editable": false
   },
   "source": [
    "### Section 1: Understanding the Dataset"
   ]
  },
  {
   "cell_type": "code",
   "execution_count": null,
   "id": "f711993c",
   "metadata": {},
   "outputs": [],
   "source": []
  },
  {
   "cell_type": "markdown",
   "id": "b377ada7",
   "metadata": {
    "deletable": false,
    "editable": false
   },
   "source": [
    "#### 1.1\tLoad Data: Import the dataset into your working environment using appropriate methods or libraries."
   ]
  },
  {
   "cell_type": "code",
   "execution_count": null,
   "id": "76c9c171",
   "metadata": {},
   "outputs": [],
   "source": []
  },
  {
   "cell_type": "markdown",
   "id": "6ae37978",
   "metadata": {
    "deletable": false,
    "editable": false
   },
   "source": [
    "#### 1.2\tChecking Data Shape: Determine the shape of your dataset, including the number of rows and columns."
   ]
  },
  {
   "cell_type": "code",
   "execution_count": null,
   "id": "f2016a87",
   "metadata": {},
   "outputs": [],
   "source": []
  },
  {
   "cell_type": "markdown",
   "id": "bd750a8f",
   "metadata": {
    "deletable": false,
    "editable": false
   },
   "source": [
    "#### 1.3\tView Data: Display the first and last few rows of the dataset and summarize any initial insights."
   ]
  },
  {
   "cell_type": "code",
   "execution_count": null,
   "id": "659aa44a",
   "metadata": {},
   "outputs": [],
   "source": []
  },
  {
   "cell_type": "markdown",
   "id": "6ecf45cb",
   "metadata": {
    "deletable": false,
    "editable": false
   },
   "source": [
    "### Section 2: Initial Data Examination"
   ]
  },
  {
   "cell_type": "code",
   "execution_count": null,
   "id": "baa3486d",
   "metadata": {},
   "outputs": [],
   "source": []
  },
  {
   "cell_type": "markdown",
   "id": "8baae40c",
   "metadata": {
    "deletable": false,
    "editable": false
   },
   "source": [
    "#### 2.1\tDataset Information: Provide a concise summary of the dataset, including the number of non-null entries, and explain what this reveals."
   ]
  },
  {
   "cell_type": "code",
   "execution_count": null,
   "id": "456b9047",
   "metadata": {},
   "outputs": [],
   "source": []
  },
  {
   "cell_type": "markdown",
   "id": "cb173319",
   "metadata": {
    "deletable": false,
    "editable": false
   },
   "source": [
    "#### 2.2 Inspect Data Types: Check data type of each column in the dataset. If columns need any data type conversion, update the data type accordingly and describe the rationale behind the conversions."
   ]
  },
  {
   "cell_type": "code",
   "execution_count": null,
   "id": "6b04d534",
   "metadata": {},
   "outputs": [],
   "source": []
  },
  {
   "cell_type": "markdown",
   "id": "1c4a26cd",
   "metadata": {
    "deletable": false,
    "editable": false
   },
   "source": [
    "#### 2.3 Summary Statistics: Generate summary statistics for the numerical columns and interpret what these statistics tell you about the data."
   ]
  },
  {
   "cell_type": "code",
   "execution_count": null,
   "id": "f6076801",
   "metadata": {},
   "outputs": [],
   "source": []
  },
  {
   "cell_type": "markdown",
   "id": "f114da6f",
   "metadata": {
    "deletable": false,
    "editable": false
   },
   "source": [
    "#### 2.4 Provide detailed comments that explain your understanding of the data."
   ]
  },
  {
   "cell_type": "code",
   "execution_count": null,
   "id": "ee631f00",
   "metadata": {},
   "outputs": [],
   "source": []
  },
  {
   "cell_type": "markdown",
   "id": "6c10ea9c",
   "metadata": {
    "deletable": false,
    "editable": false
   },
   "source": [
    "### Section 3: Data Cleaning"
   ]
  },
  {
   "cell_type": "code",
   "execution_count": null,
   "id": "f8af9bef",
   "metadata": {},
   "outputs": [],
   "source": []
  },
  {
   "cell_type": "markdown",
   "id": "c39f5d83",
   "metadata": {
    "deletable": false,
    "editable": false
   },
   "source": [
    "#### 3.1 Handling Missing Values: Identify missing values in the dataset and describe how you handled them, including your chosen method."
   ]
  },
  {
   "cell_type": "code",
   "execution_count": null,
   "id": "8ff57500",
   "metadata": {},
   "outputs": [],
   "source": []
  },
  {
   "cell_type": "markdown",
   "id": "e6c68bed",
   "metadata": {
    "deletable": false,
    "editable": false
   },
   "source": [
    "#### 3.2 Handling Duplicates: Check for duplicate rows in the dataset and describe your approach to handling any duplicates found."
   ]
  },
  {
   "cell_type": "code",
   "execution_count": null,
   "id": "2256b31e",
   "metadata": {},
   "outputs": [],
   "source": []
  },
  {
   "cell_type": "markdown",
   "id": "1c2aa18a",
   "metadata": {
    "deletable": false,
    "editable": false
   },
   "source": [
    "#### 3.3 Outliers removal: Check if there are any outliers and remove them using graphical/non-graphical methods."
   ]
  },
  {
   "cell_type": "code",
   "execution_count": null,
   "id": "159ad785",
   "metadata": {},
   "outputs": [],
   "source": []
  },
  {
   "cell_type": "markdown",
   "id": "8a7d9462",
   "metadata": {
    "deletable": false,
    "editable": false
   },
   "source": [
    "#### 3.4 Add python comments to explain the observations."
   ]
  },
  {
   "cell_type": "code",
   "execution_count": null,
   "id": "8b628aba",
   "metadata": {},
   "outputs": [],
   "source": []
  },
  {
   "cell_type": "markdown",
   "id": "2aaaf674",
   "metadata": {
    "deletable": false,
    "editable": false
   },
   "source": [
    "### Section 4: Data Analysis"
   ]
  },
  {
   "cell_type": "code",
   "execution_count": null,
   "id": "126b739f",
   "metadata": {},
   "outputs": [],
   "source": []
  },
  {
   "cell_type": "markdown",
   "id": "808c80fb",
   "metadata": {
    "deletable": false,
    "editable": false
   },
   "source": [
    "#### 4.1 Univariate Analysis of numeric features: Generate histograms for numerical data and infer insights from these visualizations."
   ]
  },
  {
   "cell_type": "code",
   "execution_count": null,
   "id": "f4954cf1",
   "metadata": {},
   "outputs": [],
   "source": []
  },
  {
   "cell_type": "markdown",
   "id": "9f06ad6f",
   "metadata": {
    "deletable": false,
    "editable": false
   },
   "source": [
    "#### 4.2 Examine the skewness in the data and apply appropriate data transformation technique.  "
   ]
  },
  {
   "cell_type": "code",
   "execution_count": null,
   "id": "1df637ae",
   "metadata": {},
   "outputs": [],
   "source": []
  },
  {
   "cell_type": "markdown",
   "id": "547b98e1",
   "metadata": {
    "deletable": false,
    "editable": false
   },
   "source": [
    "#### 4.3 Apply appropriate standardization method wherever applicable."
   ]
  },
  {
   "cell_type": "code",
   "execution_count": null,
   "id": "aaa52e2b",
   "metadata": {},
   "outputs": [],
   "source": []
  },
  {
   "cell_type": "markdown",
   "id": "85035d57",
   "metadata": {
    "deletable": false,
    "editable": false
   },
   "source": [
    "#### 4.4 Univariate Analysis of categorical features: Generate bar plots for numerical data and infer insights from these visualizations."
   ]
  },
  {
   "cell_type": "code",
   "execution_count": null,
   "id": "7707f640",
   "metadata": {},
   "outputs": [],
   "source": []
  },
  {
   "cell_type": "markdown",
   "id": "898de3b7",
   "metadata": {
    "deletable": false,
    "editable": false
   },
   "source": [
    "#### 4.5 Encode categorical features"
   ]
  },
  {
   "cell_type": "code",
   "execution_count": null,
   "id": "18a23413",
   "metadata": {},
   "outputs": [],
   "source": []
  },
  {
   "cell_type": "markdown",
   "id": "ef231de7",
   "metadata": {
    "deletable": false,
    "editable": false
   },
   "source": [
    "#### 4.6 Bivariate and Multivariate Analysis: Calculate the correlation matrix for the numerical variable. Generate heatmap for the correlation matrix, and describe the evident relationships."
   ]
  },
  {
   "cell_type": "code",
   "execution_count": null,
   "id": "90e5320a",
   "metadata": {},
   "outputs": [],
   "source": []
  },
  {
   "cell_type": "markdown",
   "id": "b174aaf9",
   "metadata": {
    "deletable": false,
    "editable": false
   },
   "source": [
    "#### 4.7 Provide detailed observations and conclusions."
   ]
  },
  {
   "cell_type": "code",
   "execution_count": null,
   "id": "20abb7d3",
   "metadata": {},
   "outputs": [],
   "source": []
  },
  {
   "cell_type": "markdown",
   "id": "c25798fc",
   "metadata": {
    "deletable": false,
    "editable": false
   },
   "source": [
    "### Section 5: Feature Selection "
   ]
  },
  {
   "cell_type": "code",
   "execution_count": null,
   "id": "48f67b5f",
   "metadata": {},
   "outputs": [],
   "source": []
  },
  {
   "cell_type": "markdown",
   "id": "f4b2e487",
   "metadata": {
    "deletable": false,
    "editable": false
   },
   "source": [
    "#### 5.1 Use correlation result for feature selection."
   ]
  },
  {
   "cell_type": "code",
   "execution_count": null,
   "id": "41d49796",
   "metadata": {},
   "outputs": [],
   "source": []
  },
  {
   "cell_type": "markdown",
   "id": "28cb8002",
   "metadata": {
    "deletable": false,
    "editable": false
   },
   "source": [
    "#### 5.2 Select the features according to the K highest score. "
   ]
  },
  {
   "cell_type": "code",
   "execution_count": null,
   "id": "16985dbc",
   "metadata": {},
   "outputs": [],
   "source": []
  },
  {
   "cell_type": "markdown",
   "id": "db0c1aff",
   "metadata": {
    "deletable": false,
    "editable": false
   },
   "source": [
    "#### 5.3 Provide detailed insights about the selected features."
   ]
  },
  {
   "cell_type": "code",
   "execution_count": null,
   "id": "d5cc9f25",
   "metadata": {},
   "outputs": [],
   "source": []
  },
  {
   "cell_type": "markdown",
   "id": "deca9deb",
   "metadata": {
    "deletable": false,
    "editable": false
   },
   "source": [
    "### Section 6: Model Selection and Training:"
   ]
  },
  {
   "cell_type": "code",
   "execution_count": null,
   "id": "c1c8c342",
   "metadata": {},
   "outputs": [],
   "source": []
  },
  {
   "cell_type": "markdown",
   "id": "b79524c5",
   "metadata": {
    "deletable": false,
    "editable": false
   },
   "source": [
    "#### 6.1 Choose at least three different machine learning algorithms to train on the dataset."
   ]
  },
  {
   "cell_type": "code",
   "execution_count": null,
   "id": "ca6a455e",
   "metadata": {},
   "outputs": [],
   "source": []
  },
  {
   "cell_type": "markdown",
   "id": "bb294ff4",
   "metadata": {
    "deletable": false,
    "editable": false
   },
   "source": [
    "#### 6.2 Train the models and apply hyperparameter tunning."
   ]
  },
  {
   "cell_type": "code",
   "execution_count": null,
   "id": "27d84beb",
   "metadata": {},
   "outputs": [],
   "source": []
  },
  {
   "cell_type": "markdown",
   "id": "c4b65be0",
   "metadata": {
    "deletable": false,
    "editable": false
   },
   "source": [
    "#### 6.3 Provide detailed observations and conclusions."
   ]
  },
  {
   "cell_type": "code",
   "execution_count": null,
   "id": "7076e392",
   "metadata": {},
   "outputs": [],
   "source": []
  },
  {
   "cell_type": "markdown",
   "id": "388ab957",
   "metadata": {
    "deletable": false,
    "editable": false
   },
   "source": [
    "### Section 7: Model Evaluation:"
   ]
  },
  {
   "cell_type": "code",
   "execution_count": null,
   "id": "e015dfaf",
   "metadata": {},
   "outputs": [],
   "source": []
  },
  {
   "cell_type": "markdown",
   "id": "8b279ae3",
   "metadata": {
    "deletable": false,
    "editable": false
   },
   "source": [
    "#### 7.1 Evaluate the performance of each model using appropriate metrics (e.g., accuracy, precision, recall, F1-score for classification; RMSE, MAE, R square for regression)."
   ]
  },
  {
   "cell_type": "code",
   "execution_count": null,
   "id": "cd5b83d4",
   "metadata": {},
   "outputs": [],
   "source": []
  },
  {
   "cell_type": "markdown",
   "id": "041e9093",
   "metadata": {
    "deletable": false,
    "editable": false
   },
   "source": [
    "#### 7.2 Compare the performance of the models and select the best model based on the evaluation metrics."
   ]
  },
  {
   "cell_type": "code",
   "execution_count": null,
   "id": "2a060f6d",
   "metadata": {},
   "outputs": [],
   "source": []
  },
  {
   "cell_type": "markdown",
   "id": "b34ba4c4",
   "metadata": {
    "deletable": false,
    "editable": false
   },
   "source": [
    "#### 7.3 Provide detailed comparison and analysis of the models’ performance."
   ]
  },
  {
   "cell_type": "code",
   "execution_count": null,
   "id": "0a18212c",
   "metadata": {},
   "outputs": [],
   "source": []
  },
  {
   "cell_type": "markdown",
   "id": "e6137c27",
   "metadata": {
    "deletable": false,
    "editable": false
   },
   "source": [
    "\n",
    "\n",
    "### Section 8: Model Deployment with web app:\n",
    "\n",
    "#### 8.1: Develop an interactive web application using Streamlit.\n",
    "\n",
    "#### 8.2 Integrate the best-performing machine learning model into the Streamlit app.\n",
    "\n",
    "#### 8.3 Provide an interface for users to input new data and obtain predictions from the model."
   ]
  },
  {
   "cell_type": "code",
   "execution_count": null,
   "id": "57923521",
   "metadata": {},
   "outputs": [],
   "source": []
  }
 ],
 "metadata": {
  "kernelspec": {
   "display_name": "Python 3 (ipykernel)",
   "language": "python",
   "name": "python3"
  },
  "language_info": {
   "codemirror_mode": {
    "name": "ipython",
    "version": 3
   },
   "file_extension": ".py",
   "mimetype": "text/x-python",
   "name": "python",
   "nbconvert_exporter": "python",
   "pygments_lexer": "ipython3",
   "version": "3.11.5"
  }
 },
 "nbformat": 4,
 "nbformat_minor": 5
}
